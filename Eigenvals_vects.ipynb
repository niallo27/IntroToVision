{
  "nbformat": 4,
  "nbformat_minor": 0,
  "metadata": {
    "colab": {
      "name": "Eigenvals_vects.ipynb",
      "provenance": [],
      "collapsed_sections": [],
      "authorship_tag": "ABX9TyO6R7XX+ejfjCWjblVLvAhi",
      "include_colab_link": true
    },
    "kernelspec": {
      "name": "python3",
      "display_name": "Python 3"
    },
    "language_info": {
      "name": "python"
    }
  },
  "cells": [
    {
      "cell_type": "markdown",
      "metadata": {
        "id": "view-in-github",
        "colab_type": "text"
      },
      "source": [
        "<a href=\"https://colab.research.google.com/github/tonyscan6003/IntroToVision/blob/main/Eigenvals_vects.ipynb\" target=\"_parent\"><img src=\"https://colab.research.google.com/assets/colab-badge.svg\" alt=\"Open In Colab\"/></a>"
      ]
    },
    {
      "cell_type": "markdown",
      "metadata": {
        "id": "nWzYA276V6p4"
      },
      "source": [
        "# Eigenvalues and Eigenvectors\n",
        "\n",
        "This short notebook demonstrates how to obtain these with numpy"
      ]
    },
    {
      "cell_type": "code",
      "metadata": {
        "colab": {
          "base_uri": "https://localhost:8080/"
        },
        "id": "VFhHFcOoWE1K",
        "outputId": "33767809-2175-4d9a-a230-fc665e128883"
      },
      "source": [
        "import numpy as np\n",
        "from numpy import linalg as LA\n",
        "\n",
        "a = np.matrix('0 1; -2 -3')\n",
        "w,v = LA.eig(a)\n",
        "print('Eigenvalues')\n",
        "print(w)\n",
        "print('Eigenvectors')\n",
        "print(v[:,0])\n",
        "print(v[:,1])"
      ],
      "execution_count": null,
      "outputs": [
        {
          "output_type": "stream",
          "text": [
            "Eigenvalues\n",
            "[-1. -2.]\n",
            "Eigenvectors\n",
            "[[ 0.70710678]\n",
            " [-0.70710678]]\n",
            "[[-0.4472136 ]\n",
            " [ 0.89442719]]\n"
          ],
          "name": "stdout"
        }
      ]
    }
  ]
}