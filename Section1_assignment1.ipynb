{
  "nbformat": 4,
  "nbformat_minor": 0,
  "metadata": {
    "colab": {
      "name": "Section1_assignment1.ipynb",
      "provenance": [],
      "collapsed_sections": [],
      "authorship_tag": "ABX9TyPv88De+bU1EiYo47uC+LUm",
      "include_colab_link": true
    },
    "kernelspec": {
      "name": "python3",
      "display_name": "Python 3"
    }
  },
  "cells": [
    {
      "cell_type": "markdown",
      "metadata": {
        "id": "view-in-github",
        "colab_type": "text"
      },
      "source": [
        "<a href=\"https://colab.research.google.com/github/tonyscan6003/IntroToVision/blob/main/Section1_assignment1.ipynb\" target=\"_parent\"><img src=\"https://colab.research.google.com/assets/colab-badge.svg\" alt=\"Open In Colab\"/></a>"
      ]
    },
    {
      "cell_type": "markdown",
      "metadata": {
        "id": "hYT2IP6t3hcu"
      },
      "source": [
        "# Manufacturing Inspection\n",
        "In this assignment you will apply simple image processing techniques to determine the level of liquid in a bottle. \n",
        "This simple approach allows us to identify overfilled bottles on a production line.\n",
        "\n",
        "![link text](https://github.com/tonyscan6003/CE6003/blob/master/images/manu_inspect.JPG?raw=true)\n",
        "\n",
        "\n",
        "\n",
        "Before beginning this exercise you should think about and engage with your peers (on the forum) about the likely sequence of steps necessary to complete the exercise. As you make progress you can discuss what approaches are working well or are failing. Some useful information is provided below. Much of the necessary code can be found in the example notebooks provided.\n",
        " \n",
        "*   [OpenCV2 Threshold](https://docs.opencv.org/4.5.1/d7/d4d/tutorial_py_thresholding.html) (example of use here) \n",
        "*   [OpenCV2 Morphology Operations](https://docs.opencv.org/4.5.2/d9/d61/tutorial_py_morphological_ops.htmlf) (example of use here)\n",
        "*   [Canny Algorithm](https://docs.opencv.org/3.4/da/d22/tutorial_py_canny.html) (example of use)\n",
        "*   [Hough Algorithm](https://docs.opencv.org/3.4/d9/db0/tutorial_hough_lines.html) (example of use)\n",
        "\n",
        "\n",
        "\n"
      ]
    },
    {
      "cell_type": "markdown",
      "metadata": {
        "id": "YbxycaCDMhOW"
      },
      "source": [
        "#Housekeeping:\n",
        "Import packages, read test image, define helper functions."
      ]
    },
    {
      "cell_type": "code",
      "metadata": {
        "id": "sZXJXb2VDqFV"
      },
      "source": [
        "import numpy as np\n",
        "from skimage import feature\n",
        "from scipy import signal\n",
        "import cv2\n",
        "import matplotlib.pyplot as plt\n",
        "import urllib.request\n"
      ],
      "execution_count": null,
      "outputs": []
    },
    {
      "cell_type": "code",
      "metadata": {
        "id": "9u05v42xGMho"
      },
      "source": [
        "# function to read images from Web addresses.\n",
        "def url_to_image(url):\n",
        "\tresp = urllib.request.urlopen(url)\n",
        "\ttemp_image = np.asarray(bytearray(resp.read()), dtype=\"uint8\")\n",
        "\ttemp_image = cv2.imdecode(temp_image, cv2.IMREAD_COLOR)\n",
        "\ttemp_image = cv2.cvtColor(temp_image, cv2.COLOR_BGR2RGB) # OpenCV defaults to BGR, but we need RGB\n",
        "\treturn temp_image"
      ],
      "execution_count": null,
      "outputs": []
    },
    {
      "cell_type": "markdown",
      "metadata": {
        "id": "jOC_HV3aPBqD"
      },
      "source": [
        "A Mask for the Region of Interest containing specific edges from the image can be created using the cv2.fillPoly command that can create a a filled region, the number of sides of the region is determined by the number of vertices applied. If a rectangle is required then 4 vertices are needed."
      ]
    },
    {
      "cell_type": "code",
      "metadata": {
        "id": "LK_DVRXwPCO0"
      },
      "source": [
        "\"\"\"\n",
        "# In order to create a rectangular mask 4 points are needed\n",
        "# These are arranged clockwise (starting at any corner of the rectangle).\n",
        "# NB Coordinates are given in the form (width,height) with the origin in the top left\n",
        "\n",
        "e.g.\n",
        "l1 = [50,150] \n",
        "l2 = [50,20]\n",
        "r1 = [400,20]\n",
        "r2 = [400,150]\n",
        "\n",
        "# The coodinates are converted to an array that is given to the mask function\n",
        "# along with the input image, both the mask and masked image are returned.\n",
        "vertices = np.array([[l1,l2,r1,r2 ]], dtype=np.int32)\n",
        "\"\"\"\n",
        "#Mask region of Interest.\n",
        "def mask_img(image,vertices):\n",
        "    #Create mask\n",
        "    mask = np.zeros_like(image) \n",
        "    #Add white to region of interest\n",
        "    cv2.fillPoly(mask, vertices, 255)\n",
        "    # apply mask to image\n",
        "    masked_image = cv2.bitwise_and(image,image, mask=mask)\n",
        "    return mask,masked_image"
      ],
      "execution_count": null,
      "outputs": []
    },
    {
      "cell_type": "code",
      "metadata": {
        "id": "_ei-_i5sDtvA"
      },
      "source": [
        "# read in test image\n",
        "image_url = \"https://cdn.eaglepi.com/uploads/2016/08/NEW_Fill_level_Rounded_Image_660pxh.jpg\"\n",
        "\n",
        "image = url_to_image(image_url)\n",
        "plt.imshow(image)\n",
        "# Convert to greyscale\n",
        "gray = cv2.cvtColor(image, cv2.COLOR_BGR2GRAY)"
      ],
      "execution_count": null,
      "outputs": []
    },
    {
      "cell_type": "markdown",
      "metadata": {
        "id": "HutMoJ8USxHf"
      },
      "source": [
        "# Method\n",
        "\n",
        "In the code cells below apply various techniques sequentially to find the fluid levels of the bottles.\n",
        "\n",
        "You should be able to extract the fluid levels in the bottles in the form of a line(s) (line defined by two points in open CV) "
      ]
    },
    {
      "cell_type": "markdown",
      "metadata": {
        "id": "jM3V5C2dWdiK"
      },
      "source": [
        "Step 1"
      ]
    },
    {
      "cell_type": "code",
      "metadata": {
        "id": "_NbN7Jq1WbRZ"
      },
      "source": [
        ""
      ],
      "execution_count": null,
      "outputs": []
    },
    {
      "cell_type": "markdown",
      "metadata": {
        "id": "r2VNYyymWb_T"
      },
      "source": [
        "Step 2..."
      ]
    },
    {
      "cell_type": "code",
      "metadata": {
        "id": "ORaf92JjWbUI"
      },
      "source": [
        ""
      ],
      "execution_count": null,
      "outputs": []
    },
    {
      "cell_type": "markdown",
      "metadata": {
        "id": "_ovYGu-sWcmw"
      },
      "source": [
        "Step N"
      ]
    },
    {
      "cell_type": "code",
      "metadata": {
        "id": "4dcG-p4VWbWw"
      },
      "source": [
        ""
      ],
      "execution_count": null,
      "outputs": []
    },
    {
      "cell_type": "markdown",
      "metadata": {
        "id": "MIaGayigdIet"
      },
      "source": [
        "#Display \n",
        "\n",
        "Display the image with the fluid levels overlaid (as in image at the top of the notebook) or otherwise mark the overfilled bottle as Failed or Passed."
      ]
    },
    {
      "cell_type": "code",
      "metadata": {
        "id": "0Fxyy_JRdKPa"
      },
      "source": [
        "out = url_to_image(image_url)\n",
        "f, axarr = plt.subplots(1,1,figsize=(6,6)) \n",
        "x_step =130\n",
        "\n",
        "\"\"\"\n",
        "Your code here\n",
        "\n",
        "\"\"\"\n",
        " \n",
        "axarr.imshow(out)\n",
        "   \n"
      ],
      "execution_count": null,
      "outputs": []
    }
  ]
}