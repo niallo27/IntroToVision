{
  "nbformat": 4,
  "nbformat_minor": 0,
  "metadata": {
    "colab": {
      "name": "Example_1_3_harris_corner.ipynb",
      "provenance": [],
      "collapsed_sections": [],
      "authorship_tag": "ABX9TyNc2X13gXof1Jz9sdr++O6r",
      "include_colab_link": true
    },
    "kernelspec": {
      "name": "python3",
      "display_name": "Python 3"
    }
  },
  "cells": [
    {
      "cell_type": "markdown",
      "metadata": {
        "id": "view-in-github",
        "colab_type": "text"
      },
      "source": [
        "<a href=\"https://colab.research.google.com/github/tonyscan6003/IntroToVision/blob/main/Example_1_3_harris_corner.ipynb\" target=\"_parent\"><img src=\"https://colab.research.google.com/assets/colab-badge.svg\" alt=\"Open In Colab\"/></a>"
      ]
    },
    {
      "cell_type": "markdown",
      "metadata": {
        "id": "Gf7sODLhvy9y"
      },
      "source": [
        "#Harris Corner\n",
        "In this example the Harris Corner Detector is implemented from the method discussed in the lessons.\n",
        "\n",
        "> Corners are detected in local image regions using the corner reponse function $R=Det(M)-\\alpha Trace(M)$ which is formed from the Determinate and Trace of the matrix $ M = \\begin{vmatrix} A & B \\\\ C & D \\end{vmatrix}$. M is referred to as the second moment matrix (slide 11).\n",
        "\n",
        "> The second moment matrix nominally consists of the 2nd order partial derivatives of change in intensity of the image e.g. $A = \\frac{\\partial^2{E_{0,0}}}{\\partial{x}^2}$.\n",
        "\n",
        "> The 2nd order partial derivatives can be approximated from products of partial derivatives of the image convolved with a small gaussian window $\\frac{\\partial^2{E_{0,0}}}{\\partial{x}^2} = \\sum_{u,v} 2 w_{u,v} (\\frac{\\partial{I_{u,v}}}{\\partial{x}}\\frac{\\partial{I_{u,v}}}{\\partial{x}} )= X^2\\circledast W$ . (slide 9)\n",
        "\n",
        "> The first order image derivatives can be obtained using any finite difference approximate to the derivative or with by filtering the image with the x and y sobel kernels $\\frac{\\partial{I_{u,v}}}{\\partial{x}}= X=I_{u,v}\\circledast x_{sobel}$ (slide 7)\n",
        "\n",
        "\n",
        "\n",
        "\n"
      ]
    },
    {
      "cell_type": "markdown",
      "metadata": {
        "id": "e3WztF3h9bzN"
      },
      "source": [
        "**HouseKeeping:** Load test image, import required packages (you can swap between the checkerboard test image, which is very useful to determine that the algorithm works properly and other images)"
      ]
    },
    {
      "cell_type": "code",
      "metadata": {
        "id": "DnKGRus2vLtm"
      },
      "source": [
        "import numpy as np\n",
        "from scipy import signal\n",
        "import cv2\n",
        "import matplotlib.pyplot as plt\n",
        "import urllib.request"
      ],
      "execution_count": null,
      "outputs": []
    },
    {
      "cell_type": "code",
      "metadata": {
        "id": "v3_2VSvszND5"
      },
      "source": [
        "# function to read images from Web addresses.\n",
        "def url_to_image(url):\n",
        "\tresp = urllib.request.urlopen(url)\n",
        "\ttemp_image = np.asarray(bytearray(resp.read()), dtype=\"uint8\")\n",
        "\ttemp_image = cv2.imdecode(temp_image, cv2.IMREAD_COLOR)\n",
        "\ttemp_image = cv2.cvtColor(temp_image, cv2.COLOR_BGR2RGB) # OpenCV defaults to BGR, but we need RGB here..\n",
        "\treturn temp_image"
      ],
      "execution_count": null,
      "outputs": []
    },
    {
      "cell_type": "code",
      "metadata": {
        "id": "RnfRjrypwVP4"
      },
      "source": [
        "# Import and resize corner regions.\n",
        "# read in test image\n",
        "image_url = \"https://upload.wikimedia.org/wikipedia/commons/thumb/5/5b/10x10_checkered_board.svg/800px-10x10_checkered_board.svg.png\"\n",
        "#image_url = \"https://upload.wikimedia.org/wikipedia/commons/thumb/9/95/Canberra_%28AU%29%2C_Letter_Boxes_at_Kendall_Lane_--_2019_--_1829.jpg/1920px-Canberra_%28AU%29%2C_Letter_Boxes_at_Kendall_Lane_--_2019_--_1829.jpg\"\n",
        "image = url_to_image(image_url)\n",
        "\n",
        "# Rescale & Crop Image \n",
        "HW_trg =512\n",
        "img_H = np.shape(image)[0]\n",
        "img_W = np.shape(image)[1]\n",
        "min_dim_size = min(img_H,img_W) \n",
        "scale_fac = HW_trg/min_dim_size\n",
        "scale_img_H = int(np.ceil(np.shape(image)[0]*scale_fac))\n",
        "scale_img_W = int(np.ceil(np.shape(image)[1]*scale_fac))\n",
        "rescale_image = cv2.resize(image, (scale_img_W,scale_img_H), interpolation = cv2.INTER_AREA)\n",
        "#rotate_image = cv2.rotate(rescale_image, cv2.ROTATE_90_CLOCKWISE)\n",
        "crop_image = rescale_image[0:HW_trg, 0:HW_trg] \n",
        "gray = cv2.cvtColor(crop_image, cv2.COLOR_BGR2GRAY)\n",
        "plt.imshow(gray,'gray')"
      ],
      "execution_count": null,
      "outputs": []
    },
    {
      "cell_type": "markdown",
      "metadata": {
        "id": "fURim5j80z-P"
      },
      "source": [
        "#Harris Algorithm (part 1)\n",
        "In order to be able to form the components of the matrix M we will carry out the following steps:\n",
        " \n",
        "1.   Calculate Sobel Filter Kernels & (small) Gaussian kernel.\n",
        "2.   Determine estimates of 1st order partial derivatives of the image $(\\frac{\\partial{I_{u,v}}}{\\partial{x}},\\frac{\\partial{I_{u,v}}}{\\partial{y}})$ by convolving the image with the sobel kernels. \n",
        "3.    Obtain products of 1st order partial derivatives (e.g. $XY= \\frac{\\partial{I_{u,v}}}{\\partial{x}} \\frac{\\partial{I_{u,v}}}{\\partial{y}}$) and convolve them with the guassian kernel to obtain components of M (e.g. $ A = X^2 \\circledast W$).  \n"
      ]
    },
    {
      "cell_type": "code",
      "metadata": {
        "id": "xuV2zMsHyxqf"
      },
      "source": [
        "#Create function to obtain sobel filtered image (with x,y sobel kernels)\n",
        "#Create function to obtain gaussian kernel\n",
        "\n",
        "def sobel_filter(gray):\n",
        "   sobelx = cv2.Sobel(gray,cv2.CV_64F,1,0,ksize=3)  # x kernel\n",
        "   sobely = cv2.Sobel(gray,cv2.CV_64F,0,1,ksize=3)  # y kernel \n",
        "   sobel_mag = np.sqrt(sobelx**2+sobely**2)\n",
        "   sobel_mag = sobel_mag/np.max(sobel_mag)\n",
        "   return [sobelx,sobely,sobel_mag]\n",
        "\n",
        "def gauss_kernel(sigma):\n",
        "    # kernel size Must be approximately 6 x sigma and an odd number\n",
        "    k_size = int(6*sigma+1)\n",
        "    rng = (k_size-1)//2\n",
        "    x = np.arange(-rng,rng+1)\n",
        "    gauss_kernel = (np.exp((-x**2)/(2*sigma**2)))/(np.sqrt(2*np.pi)*(sigma))\n",
        "    gauss_2d_kernel = np.outer(gauss_kernel,gauss_kernel)\n",
        "    return gauss_2d_kernel\n"
      ],
      "execution_count": null,
      "outputs": []
    },
    {
      "cell_type": "code",
      "metadata": {
        "id": "G-4dOSvE2iWa"
      },
      "source": [
        "# Obtain estimates of parital derivatives of the image by convolution with sobel kernels \n",
        "derv_x,dev_y,sobel_mag = sobel_filter(gray)\n"
      ],
      "execution_count": null,
      "outputs": []
    },
    {
      "cell_type": "code",
      "metadata": {
        "id": "m72diHG1D4YM"
      },
      "source": [
        "# Obtain products of 1st order partial derivatives\n",
        "Xsq = np.multiply(derv_x, derv_x)\n",
        "Ysq = np.multiply(dev_y, dev_y)\n",
        "XY = np.multiply(derv_x, dev_y)\n",
        "\n",
        "# Determine Gaussian Kernel.\n",
        "sigma =2\n",
        "gauss_2d_kernel = gauss_kernel(sigma)\n",
        "\n",
        "#Convolve Products with Gaussian Kernel\n",
        "Xsq=signal.convolve2d(Xsq, gauss_2d_kernel, boundary='symm', mode='same')\n",
        "Ysq=signal.convolve2d(Ysq, gauss_2d_kernel, boundary='symm', mode='same')\n",
        "XY=signal.convolve2d(XY, gauss_2d_kernel, boundary='symm', mode='same')"
      ],
      "execution_count": null,
      "outputs": []
    },
    {
      "cell_type": "markdown",
      "metadata": {
        "id": "oMyP9reYDpkE"
      },
      "source": [
        "#Harris Algorithm (part2)\n",
        "In this second part the components $A,B,C,D$ of the matrix $M$ are calculated from the previous section. The corner response function is determined pixel wise across the image."
      ]
    },
    {
      "cell_type": "code",
      "metadata": {
        "id": "oK4MwpV98r6s"
      },
      "source": [
        "#Get corner response using linear algebra\n",
        "alpha = 0.04\n",
        "response_fun = np.zeros((HW_trg,HW_trg))\n",
        "\n",
        "for u in range(0,HW_trg):\n",
        "    for v in range(0,HW_trg):\n",
        "        # Calculate compents in region\n",
        "        A=np.sum(np.sum(Xsq[u,v]))\n",
        "        B=np.sum(np.sum(Ysq[u,v]))\n",
        "        C=np.sum(np.sum(XY[u,v]))\n",
        "        M = [[A,C],[C,B]]\n",
        "        # Have components so don't need to explicitly calculate\n",
        "        R = np.linalg.det(M)-alpha*np.trace(M)**2\n",
        "        # Assign R to region\n",
        "        response_fun[u:,v] = R\n",
        "\n"
      ],
      "execution_count": null,
      "outputs": []
    },
    {
      "cell_type": "markdown",
      "metadata": {
        "id": "Lz4bIvhKDtsk"
      },
      "source": [
        "#Plot Corner response & Mark corners.\n",
        "\n",
        "In this final section we can plot the results from the Harris algorithm. \n",
        "\n",
        " \n",
        "\n",
        "1.   As the corner response function is obtained at every point in the image, the corner response can be displayed as an image itself. (A normalised false color plot is displayed)\n",
        "2.   In order to find and mark corners a threshold value is used to remove the flat regions and edges found in the corner response. A black and white plot of points above threshold is obtained.\n",
        "3.   The coordinates of local maxima in the image are obtained using the procedure in https://scikit-image.org/docs/dev/auto_examples/segmentation/plot_peak_local_max.html The coordinates can be marked on the image.\n",
        "\n",
        "Note that the Harris corner algorithm is not scale invariant and only responds to corners at one scale, which is set by the size of the gaussian window we use in the algorithm. Typically this is set to a small value and fine corner features are found as is done in this notebook. \n",
        " \n",
        "\n",
        " "
      ]
    },
    {
      "cell_type": "code",
      "metadata": {
        "id": "0lHXWnCBKYpT"
      },
      "source": [
        "# Plot response function\n",
        "\n",
        "norm_response = response_fun+abs(np.min(response_fun))\n",
        "norm_response = 255.0*norm_response/np.max(norm_response)\n",
        "plt.imshow(norm_response,'jet')"
      ],
      "execution_count": null,
      "outputs": []
    },
    {
      "cell_type": "code",
      "metadata": {
        "id": "XRKxLKnPxfGU"
      },
      "source": [
        "#Take large values only\n",
        "vals_greater_thresh = np.multiply((norm_response>80),norm_response)\n",
        "#t_val,vals_greater_thresh = cv2.threshold(norm_response,80,255,cv2.THRESH_BINARY)\n",
        "plt.imshow(vals_greater_thresh,'gray')"
      ],
      "execution_count": null,
      "outputs": []
    },
    {
      "cell_type": "code",
      "metadata": {
        "id": "WitjXpicPoUe"
      },
      "source": [
        "# Find local maximum \n",
        "from skimage.feature import peak_local_max\n",
        "from scipy import ndimage as ndi\n",
        "from skimage import data, img_as_float\n",
        "image_max = ndi.maximum_filter(vals_greater_thresh, size=4, mode='constant')\n",
        "\n",
        "# Comparison between image_max and im to find the coordinates of local maxima\n",
        "coordinates = peak_local_max(vals_greater_thresh, min_distance=5)\n",
        "\n",
        "for xy_pos in coordinates:\n",
        "   cv2.circle(crop_image, (xy_pos[1],xy_pos[0]), 1, (255,0,0),thickness=2)\n"
      ],
      "execution_count": null,
      "outputs": []
    },
    {
      "cell_type": "code",
      "metadata": {
        "id": "h6UPU2_aQdor"
      },
      "source": [
        "plt.figure(figsize=(10,10))\n",
        "plt.imshow(crop_image)"
      ],
      "execution_count": null,
      "outputs": []
    }
  ]
}